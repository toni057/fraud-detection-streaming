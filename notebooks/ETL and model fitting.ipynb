{
 "cells": [
  {
   "cell_type": "code",
   "execution_count": 1,
   "metadata": {
    "collapsed": true
   },
   "outputs": [],
   "source": [
    "from settings import *"
   ]
  },
  {
   "cell_type": "code",
   "execution_count": 2,
   "metadata": {
    "collapsed": true
   },
   "outputs": [],
   "source": [
    "import sys\n",
    "sys.path.append(ROOT)"
   ]
  },
  {
   "cell_type": "code",
   "execution_count": 3,
   "metadata": {},
   "outputs": [],
   "source": [
    "import numpy as np\n",
    "import pandas as pd\n",
    "import sklearn\n",
    "import matplotlib.pyplot as plt\n",
    "import seaborn as sns\n",
    "\n",
    "import pickle\n",
    "import os\n",
    "\n",
    "from aux.aux import *\n",
    "from dfply import *\n",
    "\n",
    "sns.set()\n",
    "\n",
    "%matplotlib inline"
   ]
  },
  {
   "cell_type": "code",
   "execution_count": 4,
   "metadata": {},
   "outputs": [
    {
     "data": {
      "text/plain": [
       "'0.19.1'"
      ]
     },
     "execution_count": 4,
     "metadata": {},
     "output_type": "execute_result"
    }
   ],
   "source": [
    "sklearn.__version__"
   ]
  },
  {
   "cell_type": "code",
   "execution_count": 5,
   "metadata": {},
   "outputs": [
    {
     "data": {
      "text/plain": [
       "'0.19.2'"
      ]
     },
     "execution_count": 5,
     "metadata": {},
     "output_type": "execute_result"
    }
   ],
   "source": [
    "pd.__version__"
   ]
  },
  {
   "cell_type": "code",
   "execution_count": 6,
   "metadata": {
    "collapsed": true
   },
   "outputs": [],
   "source": [
    "import warnings\n",
    "warnings.filterwarnings(\"ignore\")"
   ]
  },
  {
   "cell_type": "code",
   "execution_count": 7,
   "metadata": {},
   "outputs": [],
   "source": [
    "d = pd.read_csv(os.path.join(ROOT, 'data', 'data.csv'))\n",
    "d = d[[col for col in d.columns if col != 'isFlaggedFraud']]"
   ]
  },
  {
   "cell_type": "markdown",
   "metadata": {},
   "source": [
    "# EXPLORATORY DATA ANALYSIS"
   ]
  },
  {
   "cell_type": "code",
   "execution_count": 8,
   "metadata": {},
   "outputs": [
    {
     "data": {
      "text/html": [
       "<div>\n",
       "<table border=\"1\" class=\"dataframe\">\n",
       "  <thead>\n",
       "    <tr style=\"text-align: right;\">\n",
       "      <th></th>\n",
       "      <th>step</th>\n",
       "      <th>type</th>\n",
       "      <th>amount</th>\n",
       "      <th>nameOrig</th>\n",
       "      <th>oldbalanceOrg</th>\n",
       "      <th>newbalanceOrig</th>\n",
       "      <th>nameDest</th>\n",
       "      <th>oldbalanceDest</th>\n",
       "      <th>newbalanceDest</th>\n",
       "      <th>isFraud</th>\n",
       "    </tr>\n",
       "  </thead>\n",
       "  <tbody>\n",
       "    <tr>\n",
       "      <th>0</th>\n",
       "      <td>1</td>\n",
       "      <td>PAYMENT</td>\n",
       "      <td>9839.64</td>\n",
       "      <td>C1231006815</td>\n",
       "      <td>170136.0</td>\n",
       "      <td>160296.36</td>\n",
       "      <td>M1979787155</td>\n",
       "      <td>0.0</td>\n",
       "      <td>0.0</td>\n",
       "      <td>0</td>\n",
       "    </tr>\n",
       "    <tr>\n",
       "      <th>1</th>\n",
       "      <td>1</td>\n",
       "      <td>PAYMENT</td>\n",
       "      <td>1864.28</td>\n",
       "      <td>C1666544295</td>\n",
       "      <td>21249.0</td>\n",
       "      <td>19384.72</td>\n",
       "      <td>M2044282225</td>\n",
       "      <td>0.0</td>\n",
       "      <td>0.0</td>\n",
       "      <td>0</td>\n",
       "    </tr>\n",
       "    <tr>\n",
       "      <th>2</th>\n",
       "      <td>1</td>\n",
       "      <td>TRANSFER</td>\n",
       "      <td>181.00</td>\n",
       "      <td>C1305486145</td>\n",
       "      <td>181.0</td>\n",
       "      <td>0.00</td>\n",
       "      <td>C553264065</td>\n",
       "      <td>0.0</td>\n",
       "      <td>0.0</td>\n",
       "      <td>1</td>\n",
       "    </tr>\n",
       "    <tr>\n",
       "      <th>3</th>\n",
       "      <td>1</td>\n",
       "      <td>CASH_OUT</td>\n",
       "      <td>181.00</td>\n",
       "      <td>C840083671</td>\n",
       "      <td>181.0</td>\n",
       "      <td>0.00</td>\n",
       "      <td>C38997010</td>\n",
       "      <td>21182.0</td>\n",
       "      <td>0.0</td>\n",
       "      <td>1</td>\n",
       "    </tr>\n",
       "    <tr>\n",
       "      <th>4</th>\n",
       "      <td>1</td>\n",
       "      <td>PAYMENT</td>\n",
       "      <td>11668.14</td>\n",
       "      <td>C2048537720</td>\n",
       "      <td>41554.0</td>\n",
       "      <td>29885.86</td>\n",
       "      <td>M1230701703</td>\n",
       "      <td>0.0</td>\n",
       "      <td>0.0</td>\n",
       "      <td>0</td>\n",
       "    </tr>\n",
       "  </tbody>\n",
       "</table>\n",
       "</div>"
      ],
      "text/plain": [
       "   step      type    amount     nameOrig  oldbalanceOrg  newbalanceOrig  \\\n",
       "0     1   PAYMENT   9839.64  C1231006815       170136.0       160296.36   \n",
       "1     1   PAYMENT   1864.28  C1666544295        21249.0        19384.72   \n",
       "2     1  TRANSFER    181.00  C1305486145          181.0            0.00   \n",
       "3     1  CASH_OUT    181.00   C840083671          181.0            0.00   \n",
       "4     1   PAYMENT  11668.14  C2048537720        41554.0        29885.86   \n",
       "\n",
       "      nameDest  oldbalanceDest  newbalanceDest  isFraud  \n",
       "0  M1979787155             0.0             0.0        0  \n",
       "1  M2044282225             0.0             0.0        0  \n",
       "2   C553264065             0.0             0.0        1  \n",
       "3    C38997010         21182.0             0.0        1  \n",
       "4  M1230701703             0.0             0.0        0  "
      ]
     },
     "execution_count": 8,
     "metadata": {},
     "output_type": "execute_result"
    }
   ],
   "source": [
    "d.head(5)"
   ]
  },
  {
   "cell_type": "markdown",
   "metadata": {},
   "source": [
    "#### Check for NULL values"
   ]
  },
  {
   "cell_type": "code",
   "execution_count": 9,
   "metadata": {},
   "outputs": [
    {
     "data": {
      "text/plain": [
       "False"
      ]
     },
     "execution_count": 9,
     "metadata": {},
     "output_type": "execute_result"
    }
   ],
   "source": [
    "d.isnull().values.any()"
   ]
  },
  {
   "cell_type": "markdown",
   "metadata": {},
   "source": [
    "#### Univariate exploration of distributions"
   ]
  },
  {
   "cell_type": "code",
   "execution_count": 10,
   "metadata": {},
   "outputs": [
    {
     "data": {
      "text/html": [
       "<div>\n",
       "<table border=\"1\" class=\"dataframe\">\n",
       "  <thead>\n",
       "    <tr style=\"text-align: right;\">\n",
       "      <th></th>\n",
       "      <th>isFraud</th>\n",
       "    </tr>\n",
       "    <tr>\n",
       "      <th>isFraud</th>\n",
       "      <th></th>\n",
       "    </tr>\n",
       "  </thead>\n",
       "  <tbody>\n",
       "    <tr>\n",
       "      <th>0</th>\n",
       "      <td>6354407</td>\n",
       "    </tr>\n",
       "    <tr>\n",
       "      <th>1</th>\n",
       "      <td>8213</td>\n",
       "    </tr>\n",
       "  </tbody>\n",
       "</table>\n",
       "</div>"
      ],
      "text/plain": [
       "         isFraud\n",
       "isFraud         \n",
       "0        6354407\n",
       "1           8213"
      ]
     },
     "execution_count": 10,
     "metadata": {},
     "output_type": "execute_result"
    }
   ],
   "source": [
    "# fraud label breakdown\n",
    "# d.isFraud.value_counts()\n",
    "d.groupby('isFraud')[['isFraud']].count() # nicer output if kept as a dataframe\n",
    "\n",
    "# Conclusion - the fraud variable is extremely skewed, only 0.13% of events"
   ]
  },
  {
   "cell_type": "code",
   "execution_count": 11,
   "metadata": {},
   "outputs": [
    {
     "data": {
      "text/plain": [
       "C    6362620\n",
       "Name: nameOrig, dtype: int64"
      ]
     },
     "execution_count": 11,
     "metadata": {},
     "output_type": "execute_result"
    }
   ],
   "source": [
    "# explore nameOrig - customer who started the transaction (all customer)\n",
    "d.nameOrig.str[0].value_counts()\n",
    "\n",
    "# Conclusion - all are C type"
   ]
  },
  {
   "cell_type": "code",
   "execution_count": 12,
   "metadata": {},
   "outputs": [
    {
     "data": {
      "text/plain": [
       "0.999"
      ]
     },
     "execution_count": 12,
     "metadata": {},
     "output_type": "execute_result"
    }
   ],
   "source": [
    "# Percentage of unique nameOrig\n",
    "round(len(d.nameOrig.unique()) / d.shape[0], 3)\n",
    "\n",
    "# Conclusion - almost a unique column, not to be used."
   ]
  },
  {
   "cell_type": "code",
   "execution_count": 13,
   "metadata": {},
   "outputs": [
    {
     "data": {
      "text/plain": [
       "0.428"
      ]
     },
     "execution_count": 13,
     "metadata": {},
     "output_type": "execute_result"
    }
   ],
   "source": [
    "# Percentage of unique nameDest\n",
    "round(len(d.nameDest.unique()) / d.shape[0], 3)\n",
    "\n",
    "# Conclusion - too many unique values, not to be used in raw form."
   ]
  },
  {
   "cell_type": "markdown",
   "metadata": {},
   "source": [
    "#### Explore nameDest counts (the recipient of the transaction M/C)"
   ]
  },
  {
   "cell_type": "code",
   "execution_count": 14,
   "metadata": {},
   "outputs": [
    {
     "name": "stdout",
     "output_type": "stream",
     "text": [
      "C    4211125\n",
      "M    2151495\n",
      "Name: nameDest, dtype: int64\n"
     ]
    },
    {
     "data": {
      "image/png": "[encoded data removed]",
      "text/plain": [
       "<Figure size 432x288 with 1 Axes>"
      ]
     },
     "metadata": {},
     "output_type": "display_data"
    }
   ],
   "source": [
    "print(d.nameDest.str[0].value_counts())\n",
    "d.nameDest.str[0].value_counts().plot(kind='bar', title = 'Recipient counts by type');\n",
    "\n",
    "# Conclusion - fairly distributed among classes"
   ]
  },
  {
   "cell_type": "markdown",
   "metadata": {},
   "source": [
    "#### Payment type breakdown"
   ]
  },
  {
   "cell_type": "code",
   "execution_count": 15,
   "metadata": {},
   "outputs": [
    {
     "data": {
      "image/png": "[encoded data removed]",
      "text/plain": [
       "<Figure size 432x288 with 1 Axes>"
      ]
     },
     "metadata": {},
     "output_type": "display_data"
    }
   ],
   "source": [
    "d.type.value_counts().plot(kind='barh');\n",
    "\n",
    "# Conclusion - the fraud variable is extremely skewed, only 0.13% of events"
   ]
  },
  {
   "cell_type": "code",
   "execution_count": 16,
   "metadata": {
    "collapsed": true
   },
   "outputs": [],
   "source": [
    "# Assuming that step 1 means the first hour of the first day of simulation, and step 744 last hour of simulation, \n",
    "# and that each step corresponds to the order of the hour, we can calculate which hour of day and day of week the \n",
    "# observation took place on. We cannot know which exact day or hour it is, but can group all obervations into the \n",
    "# same hour or day groups.\n",
    "day = (d.step // 24) %7\n",
    "hour = d.step % 24"
   ]
  },
  {
   "cell_type": "markdown",
   "metadata": {},
   "source": [
    "#### Plot hour distribution"
   ]
  },
  {
   "cell_type": "code",
   "execution_count": 17,
   "metadata": {},
   "outputs": [
    {
     "data": {
      "image/png": "[encoded data removed]",
      "text/plain": [
       "<Figure size 432x288 with 1 Axes>"
      ]
     },
     "metadata": {},
     "output_type": "display_data"
    }
   ],
   "source": [
    "day.value_counts().sort_index().plot(kind='bar');"
   ]
  },
  {
   "cell_type": "markdown",
   "metadata": {},
   "source": [
    "#### Plot hour distribution"
   ]
  },
  {
   "cell_type": "code",
   "execution_count": 18,
   "metadata": {},
   "outputs": [
    {
     "data": {
      "image/png": "[encoded data removed]",
      "text/plain": [
       "<Figure size 432x288 with 1 Axes>"
      ]
     },
     "metadata": {},
     "output_type": "display_data"
    }
   ],
   "source": [
    "hour.value_counts().sort_index().plot(kind='bar');"
   ]
  },
  {
   "cell_type": "markdown",
   "metadata": {},
   "source": [
    "#### Balance variables histograms"
   ]
  },
  {
   "cell_type": "code",
   "execution_count": 19,
   "metadata": {},
   "outputs": [
    {
     "data": {
      "image/png": "[encoded data removed]",
      "text/plain": [
       "<Figure size 864x576 with 4 Axes>"
      ]
     },
     "metadata": {},
     "output_type": "display_data"
    }
   ],
   "source": [
    "fig, axes = plt.subplots(nrows=2, ncols=2, figsize=(12, 8))\n",
    "\n",
    "# .plot(kind='hist', bins=100, ax=axes[0], logy=True, normed=1, title='Sampled population', alpha=0.5);\n",
    "\n",
    "d.oldbalanceOrg[d.oldbalanceOrg<10000].plot(kind='hist', ax=axes[0,0], title='oldbalanceOrg', bins=20)\n",
    "d.oldbalanceDest[d.oldbalanceDest<10000].plot(kind='hist', ax=axes[0,1], title='oldbalanceDest', bins=20);\n",
    "\n",
    "d.newbalanceOrig[d.newbalanceOrig<10000].plot(kind='hist', ax=axes[1,0], title='newbalanceOrig', bins=20)\n",
    "d.newbalanceDest[d.newbalanceDest<100000].plot(kind='hist', ax=axes[1,1], title='newbalanceDest', bins=20);\n",
    "\n",
    "\n",
    "# Conclusion - balance variables are extremely skewed with a large majority of values being 0"
   ]
  },
  {
   "cell_type": "markdown",
   "metadata": {},
   "source": [
    "### Bivariate exploration"
   ]
  },
  {
   "cell_type": "markdown",
   "metadata": {},
   "source": [
    "#### Which DESTINATIONS have the highest number of fraudulent transactions"
   ]
  },
  {
   "cell_type": "code",
   "execution_count": 20,
   "metadata": {},
   "outputs": [
    {
     "data": {
      "text/html": [
       "<div>\n",
       "<table border=\"1\" class=\"dataframe\">\n",
       "  <thead>\n",
       "    <tr style=\"text-align: right;\">\n",
       "      <th>isFraud</th>\n",
       "      <th>nameDest</th>\n",
       "      <th>0</th>\n",
       "      <th>1</th>\n",
       "    </tr>\n",
       "  </thead>\n",
       "  <tbody>\n",
       "    <tr>\n",
       "      <th>108539</th>\n",
       "      <td>C1366192319</td>\n",
       "      <td>10</td>\n",
       "      <td>2</td>\n",
       "    </tr>\n",
       "    <tr>\n",
       "      <th>136628</th>\n",
       "      <td>C1460854172</td>\n",
       "      <td>10</td>\n",
       "      <td>2</td>\n",
       "    </tr>\n",
       "    <tr>\n",
       "      <th>57504</th>\n",
       "      <td>C1193568854</td>\n",
       "      <td>35</td>\n",
       "      <td>2</td>\n",
       "    </tr>\n",
       "    <tr>\n",
       "      <th>468311</th>\n",
       "      <td>C650699445</td>\n",
       "      <td>7</td>\n",
       "      <td>2</td>\n",
       "    </tr>\n",
       "    <tr>\n",
       "      <th>425624</th>\n",
       "      <td>C505532836</td>\n",
       "      <td>4</td>\n",
       "      <td>2</td>\n",
       "    </tr>\n",
       "    <tr>\n",
       "      <th>334402</th>\n",
       "      <td>C2129197098</td>\n",
       "      <td>8</td>\n",
       "      <td>2</td>\n",
       "    </tr>\n",
       "    <tr>\n",
       "      <th>296180</th>\n",
       "      <td>C200064275</td>\n",
       "      <td>31</td>\n",
       "      <td>2</td>\n",
       "    </tr>\n",
       "    <tr>\n",
       "      <th>230857</th>\n",
       "      <td>C1780714769</td>\n",
       "      <td>4</td>\n",
       "      <td>2</td>\n",
       "    </tr>\n",
       "    <tr>\n",
       "      <th>55009</th>\n",
       "      <td>C1185292292</td>\n",
       "      <td>4</td>\n",
       "      <td>2</td>\n",
       "    </tr>\n",
       "    <tr>\n",
       "      <th>76709</th>\n",
       "      <td>C1259079602</td>\n",
       "      <td>7</td>\n",
       "      <td>2</td>\n",
       "    </tr>\n",
       "  </tbody>\n",
       "</table>\n",
       "</div>"
      ],
      "text/plain": [
       "isFraud     nameDest   0  1\n",
       "108539   C1366192319  10  2\n",
       "136628   C1460854172  10  2\n",
       "57504    C1193568854  35  2\n",
       "468311    C650699445   7  2\n",
       "425624    C505532836   4  2\n",
       "334402   C2129197098   8  2\n",
       "296180    C200064275  31  2\n",
       "230857   C1780714769   4  2\n",
       "55009    C1185292292   4  2\n",
       "76709    C1259079602   7  2"
      ]
     },
     "execution_count": 20,
     "metadata": {},
     "output_type": "execute_result"
    }
   ],
   "source": [
    "pd.crosstab(index=d.nameDest, columns=d.isFraud).reset_index().sort_values(by=[1], ascending=False).head(10)\n",
    "\n",
    "# Conclusion: maximal number of frauds per destination is 2 with many occurrences - no substantial outliers \n",
    "# (also too few occurrences of frauds per destination to achieve statistical significance)."
   ]
  },
  {
   "cell_type": "markdown",
   "metadata": {},
   "source": [
    "#### Which ORIGINS have the highest number of fraudulent transactions"
   ]
  },
  {
   "cell_type": "code",
   "execution_count": 21,
   "metadata": {},
   "outputs": [
    {
     "data": {
      "text/html": [
       "<div>\n",
       "<table border=\"1\" class=\"dataframe\">\n",
       "  <thead>\n",
       "    <tr style=\"text-align: right;\">\n",
       "      <th>isFraud</th>\n",
       "      <th>nameOrig</th>\n",
       "      <th>0</th>\n",
       "      <th>1</th>\n",
       "    </tr>\n",
       "  </thead>\n",
       "  <tbody>\n",
       "    <tr>\n",
       "      <th>3281729</th>\n",
       "      <td>C1998644906</td>\n",
       "      <td>0</td>\n",
       "      <td>1</td>\n",
       "    </tr>\n",
       "    <tr>\n",
       "      <th>4486663</th>\n",
       "      <td>C43271707</td>\n",
       "      <td>0</td>\n",
       "      <td>1</td>\n",
       "    </tr>\n",
       "    <tr>\n",
       "      <th>3457566</th>\n",
       "      <td>C2052061131</td>\n",
       "      <td>0</td>\n",
       "      <td>1</td>\n",
       "    </tr>\n",
       "    <tr>\n",
       "      <th>1714043</th>\n",
       "      <td>C1521962059</td>\n",
       "      <td>0</td>\n",
       "      <td>1</td>\n",
       "    </tr>\n",
       "    <tr>\n",
       "      <th>5873174</th>\n",
       "      <td>C853796614</td>\n",
       "      <td>0</td>\n",
       "      <td>1</td>\n",
       "    </tr>\n",
       "    <tr>\n",
       "      <th>5281344</th>\n",
       "      <td>C673988903</td>\n",
       "      <td>0</td>\n",
       "      <td>1</td>\n",
       "    </tr>\n",
       "    <tr>\n",
       "      <th>3795375</th>\n",
       "      <td>C222155538</td>\n",
       "      <td>0</td>\n",
       "      <td>1</td>\n",
       "    </tr>\n",
       "    <tr>\n",
       "      <th>3851541</th>\n",
       "      <td>C239145615</td>\n",
       "      <td>0</td>\n",
       "      <td>1</td>\n",
       "    </tr>\n",
       "    <tr>\n",
       "      <th>2659313</th>\n",
       "      <td>C1809515003</td>\n",
       "      <td>0</td>\n",
       "      <td>1</td>\n",
       "    </tr>\n",
       "    <tr>\n",
       "      <th>423232</th>\n",
       "      <td>C1129139063</td>\n",
       "      <td>0</td>\n",
       "      <td>1</td>\n",
       "    </tr>\n",
       "  </tbody>\n",
       "</table>\n",
       "</div>"
      ],
      "text/plain": [
       "isFraud     nameOrig  0  1\n",
       "3281729  C1998644906  0  1\n",
       "4486663    C43271707  0  1\n",
       "3457566  C2052061131  0  1\n",
       "1714043  C1521962059  0  1\n",
       "5873174   C853796614  0  1\n",
       "5281344   C673988903  0  1\n",
       "3795375   C222155538  0  1\n",
       "3851541   C239145615  0  1\n",
       "2659313  C1809515003  0  1\n",
       "423232   C1129139063  0  1"
      ]
     },
     "execution_count": 21,
     "metadata": {},
     "output_type": "execute_result"
    }
   ],
   "source": [
    "pd.crosstab(index=d.nameOrig, columns=d.isFraud).reset_index().sort_values(by=1, ascending=False).head(10)\n",
    "\n",
    "# Conclusion: maximal number of frauds per destination is 1 with many occurrences - no substantial outliers \n",
    "# (even percentage - wise is not significant)"
   ]
  },
  {
   "cell_type": "markdown",
   "metadata": {},
   "source": [
    "#### Crosstab destination type (M / C) and fraud label "
   ]
  },
  {
   "cell_type": "code",
   "execution_count": 22,
   "metadata": {},
   "outputs": [
    {
     "data": {
      "image/png": "[encoded data removed]",
      "text/plain": [
       "<Figure size 432x288 with 2 Axes>"
      ]
     },
     "metadata": {},
     "output_type": "display_data"
    }
   ],
   "source": [
    "pd.crosstab(index=d.nameDest.str[0], columns=d.isFraud).loc[:,[0,1]] >> heatmap(annot = True)\n",
    "\n",
    "# Conclusion: all frauds are done when destination is C"
   ]
  },
  {
   "cell_type": "markdown",
   "metadata": {},
   "source": [
    "#### Crosstab payment type and fraud label\n",
    "* Left plot: crosstab counts\n",
    "* Right plot: fraud odds per payment type"
   ]
  },
  {
   "cell_type": "code",
   "execution_count": 23,
   "metadata": {},
   "outputs": [
    {
     "data": {
      "image/png": "[encoded data removed]",
      "text/plain": [
       "<Figure size 864x288 with 3 Axes>"
      ]
     },
     "metadata": {},
     "output_type": "display_data"
    }
   ],
   "source": [
    "fig, axes = plt.subplots(nrows=1, ncols=2, figsize=(12, 4))\n",
    "\n",
    "# Crosstab payment type and fraud label\n",
    "pd.crosstab(index=d.type, columns=d.isFraud).loc[:,[0,1]] >> heatmap(annot = True, ax=axes[0])\n",
    "\n",
    "\n",
    "# plot the fraud odds count per hour of day\n",
    "fraudOdds = pd.crosstab(index=d.type, columns=d.isFraud).iloc[:7].reset_index() >> \\\n",
    "    select([1, 2]) >> \\\n",
    "    rename(frauds = 1, nonfrauds = 0) >> \\\n",
    "    mutate(fraudOdds = X.frauds / X.nonfrauds * 100) >> \\\n",
    "    select(X.fraudOdds)\n",
    "    \n",
    "fraudOdds.plot(kind='bar', ax=axes[1]);\n",
    "\n",
    "\n",
    "# Conclusion: all frauds are done on CASH_OUT and TRANSFER payments. We can join other categories into one as \n",
    "# they have identical behaviour with regards to fraud events"
   ]
  },
  {
   "cell_type": "markdown",
   "metadata": {},
   "source": [
    "#### Crosstab weekday and fraud label\n",
    "* Left plot: crosstab counts\n",
    "* Right plot: fraud odds per weekday"
   ]
  },
  {
   "cell_type": "code",
   "execution_count": 24,
   "metadata": {},
   "outputs": [
    {
     "data": {
      "image/png": "[encoded data removed]",
      "text/plain": [
       "<Figure size 864x288 with 3 Axes>"
      ]
     },
     "metadata": {},
     "output_type": "display_data"
    }
   ],
   "source": [
    "# Inspect fraud odds per day of week (quotient #frauds/#nonfrauds)\n",
    "\n",
    "fig, axes = plt.subplots(nrows=1, ncols=2, figsize=(12, 4))\n",
    "\n",
    "# plot the crosstab fraud indicator vs hour of day\n",
    "pd.crosstab(index=day, columns=d.isFraud).loc[:,[0,1]] >> heatmap(annot = True, ax=axes[0]);\n",
    "\n",
    "\n",
    "# plot the fraud odds count per hour of day\n",
    "fraudOdds = pd.crosstab(index=day, columns=d.isFraud).iloc[:7].reset_index() >> \\\n",
    "    select([1, 2]) >> \\\n",
    "    rename(frauds = 1, nonfrauds = 0) >> \\\n",
    "    mutate(fraudOdds = X.frauds / X.nonfrauds * 100) >> \\\n",
    "    select(X.fraudOdds)\n",
    "    \n",
    "fraudOdds.plot(kind='bar', ax=axes[1]);\n",
    "\n",
    "# Inspect fraud odds per hour of day (quotient #frauds/#nonfrauds)\n",
    "# Conclusion - on some days the chance of frauds is significantly higher"
   ]
  },
  {
   "cell_type": "markdown",
   "metadata": {},
   "source": [
    "#### Crosstab hour of day and fraud label\n",
    "* Left plot: crosstab counts\n",
    "* Right plot: fraud odds per hour of day"
   ]
  },
  {
   "cell_type": "code",
   "execution_count": 25,
   "metadata": {},
   "outputs": [
    {
     "data": {
      "image/png": "[encoded data removed]",
      "text/plain": [
       "<Figure size 864x288 with 3 Axes>"
      ]
     },
     "metadata": {},
     "output_type": "display_data"
    }
   ],
   "source": [
    "# Inspect fraud odds per hour of day (quotient #frauds/#nonfrauds)\n",
    "\n",
    "fig, axes = plt.subplots(nrows=1, ncols=2, figsize=(12, 4))\n",
    "\n",
    "# plot the crosstab fraud indicator vs hour of day\n",
    "pd.crosstab(index=hour, columns=d.isFraud).loc[:,[0,1]] >> heatmap(annot = True, ax=axes[0]);\n",
    "\n",
    "\n",
    "# plot the fraud odds count per hour of day\n",
    "fraudOdds = pd.crosstab(index=hour, columns=d.isFraud).iloc[:24].reset_index() >> \\\n",
    "    select([1, 2]) >> \\\n",
    "    rename(frauds = 1, nonfrauds = 0) >> \\\n",
    "    mutate(fraudOdds = X.frauds / X.nonfrauds * 100) >> \\\n",
    "    select(X.fraudOdds)\n",
    "    \n",
    "fraudOdds.plot(kind='bar', logy=True, ax=axes[1]);\n",
    "\n",
    "# Conclusion - on some hours of day the chance of frauds is significantly higher"
   ]
  },
  {
   "cell_type": "markdown",
   "metadata": {},
   "source": [
    "#### Inspect the distribution of amount per fraud / nonfraud"
   ]
  },
  {
   "cell_type": "code",
   "execution_count": 26,
   "metadata": {},
   "outputs": [
    {
     "data": {
      "image/png": "[encoded data removed]",
      "text/plain": [
       "<Figure size 432x288 with 1 Axes>"
      ]
     },
     "metadata": {},
     "output_type": "display_data"
    }
   ],
   "source": [
    "sns.boxplot(x = 'isFraud', y = 'amount', data = d[d.amount < 100000]);\n",
    "\n",
    "# Conclusion - we can see that the amount transfered is higher on average on fraudulent transactions"
   ]
  },
  {
   "cell_type": "markdown",
   "metadata": {},
   "source": [
    "#### Inspect the distribution of oldbalanceOrg per fraud/nonfraud"
   ]
  },
  {
   "cell_type": "code",
   "execution_count": 27,
   "metadata": {},
   "outputs": [
    {
     "data": {
      "image/png": "[encoded data removed]",
      "text/plain": [
       "<Figure size 432x288 with 1 Axes>"
      ]
     },
     "metadata": {},
     "output_type": "display_data"
    }
   ],
   "source": [
    "sns.boxplot(x = 'isFraud', y = 'oldbalanceOrg', data = d[(d.oldbalanceOrg > 0) & (d.oldbalanceOrg < 100000)]);\n",
    "\n",
    "# Conclusion - we can see that the oldbalanceOrg is higher on average on fraudulent transactions"
   ]
  },
  {
   "cell_type": "markdown",
   "metadata": {},
   "source": [
    "#### Inspect the distribution of oldbalanceDest per fraud/nonfraud"
   ]
  },
  {
   "cell_type": "code",
   "execution_count": 28,
   "metadata": {},
   "outputs": [
    {
     "data": {
      "image/png": "[encoded data removed]",
      "text/plain": [
       "<Figure size 432x288 with 1 Axes>"
      ]
     },
     "metadata": {},
     "output_type": "display_data"
    }
   ],
   "source": [
    "sns.boxplot(x = 'isFraud', y = 'oldbalanceDest', data = d[(d.oldbalanceDest > 0) & (d.oldbalanceDest < 700000)]);\n",
    "\n",
    "# Conclusion - we can see that the oldbalanceDest is lower on average on fraudulent transactions"
   ]
  },
  {
   "cell_type": "code",
   "execution_count": 29,
   "metadata": {
    "collapsed": true
   },
   "outputs": [],
   "source": [
    "#### Inspect the distribution of newbalanceOrig per fraud/nonfraud"
   ]
  },
  {
   "cell_type": "code",
   "execution_count": 30,
   "metadata": {},
   "outputs": [
    {
     "data": {
      "image/png": "[encoded data removed]",
      "text/plain": [
       "<Figure size 432x288 with 1 Axes>"
      ]
     },
     "metadata": {},
     "output_type": "display_data"
    }
   ],
   "source": [
    "sns.boxplot(x = 'isFraud', y = 'newbalanceOrig', data = d[(d.newbalanceOrig > 0) & (d.newbalanceOrig < 1000000)]);\n",
    "\n",
    "# Conclusion - we can see that the newbalanceOrig is significanly higher on average on fraudulent transactions"
   ]
  },
  {
   "cell_type": "markdown",
   "metadata": {},
   "source": [
    "#### Inspect the distribution of newbalanceDest per fraud/nonfraud"
   ]
  },
  {
   "cell_type": "code",
   "execution_count": 31,
   "metadata": {},
   "outputs": [
    {
     "data": {
      "image/png": "[encoded data removed]",
      "text/plain": [
       "<Figure size 432x288 with 1 Axes>"
      ]
     },
     "metadata": {},
     "output_type": "display_data"
    }
   ],
   "source": [
    "sns.boxplot(x = 'isFraud', y = 'newbalanceDest', data = d[(d.newbalanceDest > 0) & (d.newbalanceDest < 1000000)]);\n",
    "\n",
    "# There is little differentitation - this variable is potentially not very informative"
   ]
  },
  {
   "cell_type": "code",
   "execution_count": null,
   "metadata": {
    "collapsed": true
   },
   "outputs": [],
   "source": []
  },
  {
   "cell_type": "markdown",
   "metadata": {},
   "source": [
    "# Feature extraction"
   ]
  },
  {
   "cell_type": "code",
   "execution_count": 32,
   "metadata": {
    "collapsed": true,
    "scrolled": true
   },
   "outputs": [],
   "source": [
    "from sklearn_pandas import DataFrameMapper\n",
    "from sklearn.preprocessing import LabelBinarizer\n",
    "\n",
    "# RecategorizeType - recategorises the type variable so that nonfraud categories are one category\n",
    "# ExtractRecipientType - extract the type of recipient: M or C\n",
    "# StepToHour - extracts hour of day\n",
    "# StepToDay - extracts day of week\n",
    "\n",
    "mapper = DataFrameMapper([\n",
    "    ('type', [LabelBinarizer()]),\n",
    "    ('nameDest', [ExtractRecipientType(), LabelBinarizer()], {'alias': 'recipient_type'}),\n",
    "    ('step', StepToHour(), {'alias': 'hour'}),\n",
    "    ('step', StepToDay(), {'alias': 'day'}),\n",
    "    ('amount', None),\n",
    "    ('oldbalanceOrg', None),\n",
    "    ('newbalanceOrig', None),\n",
    "    ('oldbalanceDest', None),\n",
    "    ('newbalanceDest', None)\n",
    "], df_out=True)"
   ]
  },
  {
   "cell_type": "markdown",
   "metadata": {},
   "source": [
    "# MODEL TRAINING"
   ]
  },
  {
   "cell_type": "markdown",
   "metadata": {},
   "source": [
    "Model training consists of several steps:\n",
    "\n",
    "\n",
    "* We first split to training and testing samples. The test set serves as the validation set, and the true test set used at the end is not used in this exercise.\n",
    "\n",
    "\n",
    "* We then undersample the majority class to the ratio of 10% fraud rate\n",
    "    * We use simple vanilla undersample, where we randomly select a sample from the non fraud cases to achieve desired class ratio.\n",
    "    * The undersample() function is defined in ```aux.py```.\n",
    "    \n",
    "\n",
    "* ML algorithm of choice is the random forest algorithm for several reasons:\n",
    "    * It is tree based, and hence can automatically take care of interactions between features, hence we do not have to manually engineer such features.\n",
    "    * Given that it is tree based, it can also automatically take care of ordered nominal features (e.g. hour, day), so that we do not have to introduce encoding for such variables. Categorical variables still need to be encoded since used implementation does not support using non-numeric variables.\n",
    "    * Trees also take care of severely imbalanced numerical variables such as oldbalanceDest or newbalanceDest, where balance with customers of type M are automatically set to 0.\n",
    "    * Performance-wise it is among the best algorithms.\n",
    "    * It is relatively simple to tune (not in focus in this exercise).\n",
    "    \n",
    "    \n",
    "* After fitting the ML algorithm, we conduct a simple profitability calculation (based on the assumption that the cost ratio of misclassified fraud to misclassified nonfraud is 10:1) to provide the optimal threshold (cutoff) point, so that the output is a binary response."
   ]
  },
  {
   "cell_type": "markdown",
   "metadata": {},
   "source": [
    "#### Split to training and testing datasets and undersample."
   ]
  },
  {
   "cell_type": "code",
   "execution_count": 33,
   "metadata": {},
   "outputs": [],
   "source": [
    "# train_ and test_ hold original samples.\n",
    "\n",
    "from sklearn.model_selection import train_test_split\n",
    "\n",
    "# We also want to keep original population samples, so undersample separately\n",
    "train_, test_ = train_test_split(d, test_size=0.3, random_state=42)"
   ]
  },
  {
   "cell_type": "code",
   "execution_count": 34,
   "metadata": {
    "collapsed": true
   },
   "outputs": [],
   "source": [
    "train = undersample(train_, 0.1)\n",
    "test = undersample(test_, 0.1)"
   ]
  },
  {
   "cell_type": "markdown",
   "metadata": {},
   "source": [
    "#### Check whether the split to train and test sets is balanced in target variable"
   ]
  },
  {
   "cell_type": "code",
   "execution_count": 35,
   "metadata": {},
   "outputs": [
    {
     "name": "stdout",
     "output_type": "stream",
     "text": [
      "Number of target non-events in train: 4448056\n",
      "Number of target non-events in test: 1906351\n",
      "\n",
      "Number of target events in train: 5778\n",
      "Number of target events in test:  2435\n",
      "Ratio of events in train (should be close to 70%): 70.352%\n"
     ]
    }
   ],
   "source": [
    "print(\"Number of target non-events in train: %d\" % (train_.shape[0] - train_.isFraud.sum()))\n",
    "print(\"Number of target non-events in test: %d\\n\" % (test_.shape[0] - test_.isFraud.sum()))\n",
    "\n",
    "\n",
    "print(\"Number of target events in train:\", train_.isFraud.sum())\n",
    "print(\"Number of target events in test: \", test_.isFraud.sum())\n",
    "\n",
    "print(\"Ratio of events in train (should be close to 70%%): %.3f%%\" % (100 * train_.isFraud.sum() / (train_.isFraud.sum() + test_.isFraud.sum())))"
   ]
  },
  {
   "cell_type": "markdown",
   "metadata": {},
   "source": [
    "#### Fit mapper"
   ]
  },
  {
   "cell_type": "code",
   "execution_count": 36,
   "metadata": {
    "collapsed": true
   },
   "outputs": [],
   "source": [
    "mapper.fit(d);"
   ]
  },
  {
   "cell_type": "code",
   "execution_count": 37,
   "metadata": {
    "collapsed": true
   },
   "outputs": [],
   "source": [
    "trainMapped = mapper.transform(train)\n",
    "testMapped = mapper.transform(test)"
   ]
  },
  {
   "cell_type": "markdown",
   "metadata": {},
   "source": [
    "#### Adjust prior weights to take into account undersampling to 10% fraud case class."
   ]
  },
  {
   "cell_type": "code",
   "execution_count": 38,
   "metadata": {
    "collapsed": true
   },
   "outputs": [],
   "source": [
    "# undersampled proportions of frauds and non frauds\n",
    "sample1 = 0.1\n",
    "sample0 = 0.9\n",
    "\n",
    "# population proportions of frauds and non frauds\n",
    "pop1 = sum(train_.isFraud) / train_.shape[0]\n",
    "pop0 = 1 - sum(train_.isFraud) / train_.shape[0]\n",
    "\n",
    "# class weights\n",
    "wt = {0: pop0/sample0,\n",
    "      1: pop1/sample1}"
   ]
  },
  {
   "cell_type": "markdown",
   "metadata": {},
   "source": [
    "#### Fit random forest"
   ]
  },
  {
   "cell_type": "code",
   "execution_count": 39,
   "metadata": {
    "collapsed": true
   },
   "outputs": [],
   "source": [
    "from sklearn.ensemble import RandomForestClassifier\n",
    "\n",
    "model = RandomForestClassifier(random_state=42, n_estimators=100, max_depth=7,\n",
    "                               min_samples_leaf=20, n_jobs=4)"
   ]
  },
  {
   "cell_type": "code",
   "execution_count": 40,
   "metadata": {},
   "outputs": [
    {
     "name": "stdout",
     "output_type": "stream",
     "text": [
      "Model with rank: 1\n",
      "Mean validation score: 0.959 (std: 0.005)\n",
      "Parameters: {'max_depth': None, 'max_features': 9, 'min_samples_leaf': 43, 'min_samples_split': 4, 'n_estimators': 169}\n",
      "\n",
      "Model with rank: 2\n",
      "Mean validation score: 0.957 (std: 0.006)\n",
      "Parameters: {'max_depth': None, 'max_features': 10, 'min_samples_leaf': 48, 'min_samples_split': 2, 'n_estimators': 364}\n",
      "\n",
      "Model with rank: 3\n",
      "Mean validation score: 0.954 (std: 0.005)\n",
      "Parameters: {'max_depth': None, 'max_features': 9, 'min_samples_leaf': 56, 'min_samples_split': 4, 'n_estimators': 191}\n",
      "\n"
     ]
    }
   ],
   "source": [
    "from sklearn.model_selection import RandomizedSearchCV\n",
    "from scipy.stats import randint as sp_randint\n",
    "from sklearn.metrics import fbeta_score, make_scorer\n",
    "\n",
    "def report(results, n_top=3):\n",
    "    for i in range(1, n_top + 1):\n",
    "        candidates = np.flatnonzero(results['rank_test_score'] == i)\n",
    "        for candidate in candidates:\n",
    "            print(\"Model with rank: {0}\".format(i))\n",
    "            print(\"Mean validation score: {0:.3f} (std: {1:.3f})\".format(\n",
    "                  results['mean_test_score'][candidate],\n",
    "                  results['std_test_score'][candidate]))\n",
    "            print(\"Parameters: {0}\".format(results['params'][candidate]))\n",
    "            print(\"\")\n",
    "\n",
    "def precRecAUC(ground_truth, predictions):\n",
    "    from sklearn.metrics import auc\n",
    "    precision, recall, thresh = precision_recall_curve(ground_truth, predictions)\n",
    "    aucPrecRec = auc(recall, precision)\n",
    "    return aucPrecRec\n",
    "\n",
    "score = make_scorer(precRecAUC, greater_is_better=True)\n",
    "\n",
    "param_dist = {\"max_depth\": [3, None],\n",
    "              \"max_features\": sp_randint(2, 11),\n",
    "              \"min_samples_split\": sp_randint(2, 11),\n",
    "              \"min_samples_leaf\": sp_randint(20, 100),\n",
    "              \"n_estimators\": sp_randint(20, 500)}\n",
    "\n",
    "n_iter_search = 25\n",
    "random_search = RandomizedSearchCV(model, param_distributions=param_dist, scoring=score,\n",
    "                                   n_iter=n_iter_search, random_state=42)\n",
    "random_search.fit(trainMapped, train.isFraud)\n",
    "report(random_search.cv_results_)"
   ]
  },
  {
   "cell_type": "code",
   "execution_count": 41,
   "metadata": {
    "collapsed": true
   },
   "outputs": [],
   "source": [
    "model = random_search.best_estimator_"
   ]
  },
  {
   "cell_type": "code",
   "execution_count": 42,
   "metadata": {},
   "outputs": [],
   "source": [
    "# from sklearn.ensemble import RandomForestClassifier\n",
    "\n",
    "# model = RandomForestClassifier(random_state=42, n_estimators=30, max_depth=10,\n",
    "#                                min_samples_leaf=20, n_jobs=4)\n",
    "# model.fit(trainMapped, train.isFraud)"
   ]
  },
  {
   "cell_type": "markdown",
   "metadata": {},
   "source": [
    "#### Plot feature importance"
   ]
  },
  {
   "cell_type": "code",
   "execution_count": 43,
   "metadata": {},
   "outputs": [
    {
     "data": {
      "image/png": "[encoded data removed]",
      "text/plain": [
       "<Figure size 432x288 with 1 Axes>"
      ]
     },
     "metadata": {},
     "output_type": "display_data"
    }
   ],
   "source": [
    "pd.Series(model.feature_importances_, index=trainMapped.columns).sort_values(ascending=False).plot(kind='bar');"
   ]
  },
  {
   "cell_type": "markdown",
   "metadata": {},
   "source": [
    "#### Save the pipeline to disk, so that it can be used in the streaming application"
   ]
  },
  {
   "cell_type": "code",
   "execution_count": 44,
   "metadata": {
    "collapsed": true
   },
   "outputs": [],
   "source": [
    "from sklearn.pipeline import Pipeline\n",
    "\n",
    "pipeline = Pipeline([('mapper', mapper), \n",
    "                     ('model', model)])"
   ]
  },
  {
   "cell_type": "markdown",
   "metadata": {},
   "source": [
    "#### Predictions for training and testing datasets"
   ]
  },
  {
   "cell_type": "code",
   "execution_count": 45,
   "metadata": {
    "collapsed": true
   },
   "outputs": [],
   "source": [
    "y_train = pipeline.predict_proba(train)\n",
    "y_test = pipeline.predict_proba(test)"
   ]
  },
  {
   "cell_type": "markdown",
   "metadata": {},
   "source": [
    "#### Calculate precision and recall"
   ]
  },
  {
   "cell_type": "code",
   "execution_count": 46,
   "metadata": {
    "collapsed": true
   },
   "outputs": [],
   "source": [
    "from sklearn.metrics import precision_recall_curve\n",
    "\n",
    "precision, recall, thresh = precision_recall_curve(train.isFraud, y_train[:,1])\n",
    "precisionT, recallT, threshT = precision_recall_curve(test.isFraud, y_test[:,1])"
   ]
  },
  {
   "cell_type": "code",
   "execution_count": 47,
   "metadata": {},
   "outputs": [
    {
     "data": {
      "image/png": "[encoded data removed]",
      "text/plain": [
       "<Figure size 864x288 with 2 Axes>"
      ]
     },
     "metadata": {},
     "output_type": "display_data"
    }
   ],
   "source": [
    "plt.figure(num=None, figsize=(12, 4))\n",
    "\n",
    "plt.subplot(121)\n",
    "plotPrecRecCurve(precision, recall, \"TRAIN\")\n",
    "\n",
    "plt.subplot(122)\n",
    "plotPrecRecCurve(precisionT, recallT, \"TEST\")"
   ]
  },
  {
   "cell_type": "markdown",
   "metadata": {},
   "source": [
    "#### Calculate and plot ROC curve"
   ]
  },
  {
   "cell_type": "code",
   "execution_count": 48,
   "metadata": {
    "collapsed": true
   },
   "outputs": [],
   "source": [
    "from sklearn.metrics import roc_curve\n",
    "\n",
    "fpr, tpr, threshROC = roc_curve(train.isFraud, y_train[:,1], drop_intermediate=False)\n",
    "# fprT, tprT, threshROCT = roc_curve(test_.isFraud, pipeline.predict_proba(test_)[:,1], drop_intermediate=False)\n",
    "fprT, tprT, threshROCT = roc_curve(test.isFraud, y_test[:,1], drop_intermediate=False)"
   ]
  },
  {
   "cell_type": "code",
   "execution_count": 49,
   "metadata": {},
   "outputs": [
    {
     "data": {
      "image/png": "[encoded data removed]",
      "text/plain": [
       "<Figure size 864x288 with 2 Axes>"
      ]
     },
     "metadata": {},
     "output_type": "display_data"
    }
   ],
   "source": [
    "plt.figure(num=None, figsize=(12, 4))\n",
    "\n",
    "plt.subplot(121)\n",
    "plotPrecRecCurve(tpr, fpr, \"TRAIN\")\n",
    "\n",
    "plt.subplot(122)\n",
    "plotPrecRecCurve(tprT, fprT, \"TEST\")"
   ]
  },
  {
   "cell_type": "markdown",
   "metadata": {},
   "source": [
    "#### Threshold definition\n",
    "\n",
    "To set the threshold we run a profitability calculation to determine the optimal threshold level. We therefore assume that the cost of misclassifying a fraud vs non fraud is 10:1. We assume no benefit if correctly classifying frauds and non frauds."
   ]
  },
  {
   "cell_type": "code",
   "execution_count": 50,
   "metadata": {
    "collapsed": true
   },
   "outputs": [],
   "source": [
    "fprT, tprT, threshROCT = roc_curve(d.isFraud, pipeline.predict_proba(d)[:,1], drop_intermediate=False)"
   ]
  },
  {
   "cell_type": "code",
   "execution_count": 51,
   "metadata": {},
   "outputs": [
    {
     "data": {
      "text/html": [
       "<div>\n",
       "<table border=\"1\" class=\"dataframe\">\n",
       "  <thead>\n",
       "    <tr style=\"text-align: right;\">\n",
       "      <th></th>\n",
       "      <th>pFraud</th>\n",
       "      <th>pNonFraud</th>\n",
       "      <th>fpr</th>\n",
       "      <th>tpr</th>\n",
       "      <th>TotalCost</th>\n",
       "    </tr>\n",
       "  </thead>\n",
       "  <tbody>\n",
       "    <tr>\n",
       "      <th>8034</th>\n",
       "      <td>0.764081</td>\n",
       "      <td>0.235919</td>\n",
       "      <td>0.000612</td>\n",
       "      <td>0.868501</td>\n",
       "      <td>0.002308</td>\n",
       "    </tr>\n",
       "  </tbody>\n",
       "</table>\n",
       "</div>"
      ],
      "text/plain": [
       "        pFraud  pNonFraud       fpr       tpr  TotalCost\n",
       "8034  0.764081   0.235919  0.000612  0.868501   0.002308"
      ]
     },
     "execution_count": 51,
     "metadata": {},
     "output_type": "execute_result"
    }
   ],
   "source": [
    "pFraud = d.isFraud.sum()/d.shape[0]\n",
    "pNonFraud = 1-pFraud\n",
    "\n",
    "# profitability calculation\n",
    "prof = pd.concat([pd.DataFrame({'pNonFraud': 1-threshROCT, 'pFraud': threshROCT}),\n",
    "                  pd.DataFrame({'fpr': fprT, 'tpr': tprT})], axis=1) >> \\\n",
    "    arrange(X.pFraud) >> \\\n",
    "    mutate( TotalCost = float(pFraud) * ((1-X.tpr) * 10) + float(pNonFraud) * (X.fpr * 1) )\n",
    "\n",
    "    \n",
    "# select threshold where cost is minimal\n",
    "threshold = prof >> \\\n",
    "    mask(X.TotalCost == np.min(X.TotalCost)) >> \\\n",
    "    select('pFraud') >>\\\n",
    "    rename(threshold=X.pFraud)\n",
    "    \n",
    "prof >> \\\n",
    "    mask(X.TotalCost == np.min(X.TotalCost))"
   ]
  },
  {
   "cell_type": "code",
   "execution_count": 52,
   "metadata": {},
   "outputs": [
    {
     "data": {
      "image/png": "[encoded data removed]",
      "text/plain": [
       "<Figure size 432x288 with 1 Axes>"
      ]
     },
     "metadata": {},
     "output_type": "display_data"
    }
   ],
   "source": [
    "# Plot the cost function\n",
    "prof.plot(x='pFraud', y='TotalCost', kind='line', logy=True);"
   ]
  },
  {
   "cell_type": "markdown",
   "metadata": {},
   "source": [
    "#### Comparison of the sampled and original populations of predicted probabilities on the test sample\n",
    "* Plots show that the fitted model provides very good differentiation between the fraud and non-fraud cases"
   ]
  },
  {
   "cell_type": "code",
   "execution_count": 53,
   "metadata": {},
   "outputs": [
    {
     "data": {
      "image/png": "[encoded data removed]",
      "text/plain": [
       "<Figure size 864x288 with 2 Axes>"
      ]
     },
     "metadata": {},
     "output_type": "display_data"
    }
   ],
   "source": [
    "fig, axes = plt.subplots(nrows=1, ncols=2, figsize=(12, 4), sharey=True)\n",
    "\n",
    "pd.Series(pipeline.predict_proba(test)[test.isFraud==1,1]).plot(kind='hist', bins=100, ax=axes[0], logy=True, normed=1, title='Sampled population', alpha=0.5);\n",
    "pd.Series(pipeline.predict_proba(test)[test.isFraud==0,1]).plot(kind='hist', bins=100, ax=axes[0], logy=True, normed=1, title='Sampled population', alpha=0.5);\n",
    "\n",
    "pd.Series(pipeline.predict_proba(test_)[test_.isFraud==1,1]).plot(kind='hist', bins=100, ax=axes[1], logy=True, normed=1, title='Original population', alpha=0.5);\n",
    "pd.Series(pipeline.predict_proba(test_)[test_.isFraud==0,1]).plot(kind='hist', bins=100, ax=axes[1], logy=True, normed=1, title='Original population', alpha=0.5);\n",
    "\n",
    "axes[0].legend({'FRAUD': 0, 'NONFRAUD': 1});\n",
    "axes[1].legend({'FRAUD': 0, 'NONFRAUD': 1});"
   ]
  },
  {
   "cell_type": "markdown",
   "metadata": {},
   "source": [
    "#### Save final prediction class with threshold"
   ]
  },
  {
   "cell_type": "code",
   "execution_count": 54,
   "metadata": {
    "collapsed": true
   },
   "outputs": [],
   "source": [
    "predClass = predictClass(pipeline=pipeline, threshold=threshold.iloc[0]['threshold'])\n",
    "\n",
    "\n",
    "with open(os.path.join(ROOT, 'models', 'pipeline.pickle'), 'wb') as handle:\n",
    "    pickle.dump(predClass, handle, protocol=pickle.HIGHEST_PROTOCOL)"
   ]
  }
 ],
 "metadata": {
  "kernelspec": {
   "display_name": "Python 3",
   "language": "python",
   "name": "python3"
  },
  "language_info": {
   "codemirror_mode": {
    "name": "ipython",
    "version": 3
   },
   "file_extension": ".py",
   "mimetype": "text/x-python",
   "name": "python",
   "nbconvert_exporter": "python",
   "pygments_lexer": "ipython3",
   "version": "3.6.4"
  }
 },
 "nbformat": 4,
 "nbformat_minor": 2
}
